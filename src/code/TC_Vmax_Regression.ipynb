{
  "nbformat": 4,
  "nbformat_minor": 0,
  "metadata": {
    "colab": {
      "name": "TC_Vmax_Regression.ipynb",
      "provenance": [],
      "collapsed_sections": [],
      "toc_visible": true,
      "include_colab_link": true
    },
    "kernelspec": {
      "display_name": "Python 3",
      "name": "python3"
    }
  },
  "cells": [
    {
      "cell_type": "markdown",
      "metadata": {
        "id": "view-in-github",
        "colab_type": "text"
      },
      "source": [
        "<a href=\"https://colab.research.google.com/github/raquelcarmo/tropical_cyclones/blob/main/src/code/TC_Vmax_Regression.ipynb\" target=\"_parent\"><img src=\"https://colab.research.google.com/assets/colab-badge.svg\" alt=\"Open In Colab\"/></a>"
      ]
    },
    {
      "cell_type": "code",
      "metadata": {
        "colab": {
          "base_uri": "https://localhost:8080/"
        },
        "id": "Jnxs1L1PWjeL",
        "outputId": "3bf5f22f-e037-466b-d8e4-074801900ad7"
      },
      "source": [
        "# Load the Drive helper and mount\r\n",
        "from google.colab import drive\r\n",
        "\r\n",
        "# This will prompt for authorization.\r\n",
        "drive.mount('/content/drive')"
      ],
      "execution_count": null,
      "outputs": [
        {
          "output_type": "stream",
          "text": [
            "Mounted at /content/drive\n"
          ],
          "name": "stdout"
        }
      ]
    },
    {
      "cell_type": "code",
      "metadata": {
        "id": "4p-mSrzKWqUb",
        "colab": {
          "base_uri": "https://localhost:8080/"
        },
        "outputId": "58ac7e00-5c02-4615-fdee-c33fb29f04b3"
      },
      "source": [
        "# insert your desired path to work on\r\n",
        "%cd /content/drive/My Drive/ESRIN_PhiLab/Tropical_Cyclones/data\r\n",
        "%ls"
      ],
      "execution_count": null,
      "outputs": [
        {
          "output_type": "stream",
          "text": [
            "/content/drive/My Drive/ESRIN_PhiLab/Tropical_Cyclones/data\n",
            "\u001b[0m\u001b[01;34mbest_track\u001b[0m/                            \u001b[01;34mSAR_swath_images_VV+VH+WS_old\u001b[0m/\n",
            "\u001b[01;34mmodel_comparisons_between_datasets\u001b[0m/    \u001b[01;34mSAR_swath_images_WS+sWSO+cWSO\u001b[0m/\n",
            "model.png                              \u001b[01;34mSAR_swath_images_WS+sWSO+cWSO_old\u001b[0m/\n",
            "\u001b[01;34mparametric_model\u001b[0m/                      \u001b[01;34mSAR_swath_images_WS+WS+WS\u001b[0m/\n",
            "\u001b[01;36mSAR_IMAGE_DATASET_EYE_CLASSIFICATION\u001b[0m@  \u001b[01;34mSAR_swath_images_WS+WS+WS_old\u001b[0m/\n",
            "\u001b[01;36mSAR_swath_images\u001b[0m@                      \u001b[01;34mSAR_swath_masks\u001b[0m/\n",
            "\u001b[01;34mSAR_swath_images_VV+VH+VH\u001b[0m/             \u001b[01;34mSAR_swath_nc\u001b[0m/\n",
            "\u001b[01;34mSAR_swath_images_VV+VH+VH_old\u001b[0m/         \u001b[01;34mSAR_swath_Vmax\u001b[0m/\n",
            "\u001b[01;34mSAR_swath_images_VV+VH+WS\u001b[0m/\n"
          ],
          "name": "stdout"
        }
      ]
    },
    {
      "cell_type": "code",
      "metadata": {
        "colab": {
          "base_uri": "https://localhost:8080/"
        },
        "id": "ZHrKRH_b4KhY",
        "outputId": "8355f2bc-7f8f-4f0d-9ff3-a20936f24d43"
      },
      "source": [
        "!pip install netcdf4"
      ],
      "execution_count": null,
      "outputs": [
        {
          "output_type": "stream",
          "text": [
            "Collecting netcdf4\n",
            "\u001b[?25l  Downloading https://files.pythonhosted.org/packages/1a/71/a321abeee439caf94850b4f68ecef68d2ad584a5a9566816c051654cff94/netCDF4-1.5.5.1-cp36-cp36m-manylinux2014_x86_64.whl (4.7MB)\n",
            "\u001b[K     |████████████████████████████████| 4.7MB 4.3MB/s \n",
            "\u001b[?25hRequirement already satisfied: numpy>=1.9 in /usr/local/lib/python3.6/dist-packages (from netcdf4) (1.19.5)\n",
            "Collecting cftime\n",
            "\u001b[?25l  Downloading https://files.pythonhosted.org/packages/3d/98/8c8127d95267ad392940d13875f1165777e83261d64f34e73d7537911316/cftime-1.3.1-cp36-cp36m-manylinux2014_x86_64.whl (325kB)\n",
            "\u001b[K     |████████████████████████████████| 327kB 34.3MB/s \n",
            "\u001b[?25hInstalling collected packages: cftime, netcdf4\n",
            "Successfully installed cftime-1.3.1 netcdf4-1.5.5.1\n"
          ],
          "name": "stdout"
        }
      ]
    },
    {
      "cell_type": "code",
      "metadata": {
        "id": "PZu5fkuXWxdC"
      },
      "source": [
        "# general imports\r\n",
        "import netCDF4\r\n",
        "import random\r\n",
        "import glob\r\n",
        "import os\r\n",
        "import sys\r\n",
        "sys.stdout.flush()\r\n",
        "import pandas as pd\r\n",
        "import numpy as np\r\n",
        "import cv2\r\n",
        "import matplotlib\r\n",
        "import matplotlib.pyplot as plt\r\n",
        "import matplotlib.cm as cm\r\n",
        "import math\r\n",
        "import imageio\r\n",
        "import os.path\r\n",
        "import time\r\n",
        "from PIL import Image\r\n",
        "from mpl_toolkits.axes_grid1 import make_axes_locatable\r\n",
        "from scipy import ndimage\r\n",
        "from scipy.interpolate import interp1d\r\n",
        "from google.colab.patches import cv2_imshow\r\n",
        "import random\r\n",
        "from shapely.geometry import Point\r\n",
        "import re\r\n",
        "import pickle\r\n",
        "import scipy\r\n",
        "from sklearn.model_selection import StratifiedKFold\r\n",
        "from sklearn.preprocessing import StandardScaler\r\n",
        "from tensorflow.keras.callbacks import EarlyStopping, ModelCheckpoint, ReduceLROnPlateau, TensorBoard\r\n",
        "import datetime\r\n",
        "\r\n",
        "import tensorflow as tf\r\n",
        "from tensorflow.data import Dataset\r\n",
        "from tensorflow.keras import Input\r\n",
        "from keras.utils import to_categorical \r\n",
        "from sklearn.model_selection import train_test_split\r\n",
        "from tensorflow.keras.applications import resnet50, mobilenet_v2\r\n",
        "from tensorflow.keras.applications.resnet50 import ResNet50\r\n",
        "from tensorflow.keras.applications.mobilenet_v2 import MobileNetV2\r\n",
        "from tensorflow.keras.models import Model, Sequential\r\n",
        "from tensorflow.keras import layers\r\n",
        "from tensorflow.keras.layers import concatenate, Dense, GlobalAveragePooling2D, Activation\r\n",
        "from tensorflow.keras.optimizers import SGD, Adam\r\n",
        "from tensorflow.keras.metrics import BinaryAccuracy, Precision, Recall, TruePositives, FalsePositives, TrueNegatives, FalseNegatives\r\n",
        "from sklearn.metrics import confusion_matrix, ConfusionMatrixDisplay\r\n",
        "\r\n",
        "np.set_printoptions(precision=4)"
      ],
      "execution_count": null,
      "outputs": []
    },
    {
      "cell_type": "code",
      "metadata": {
        "id": "kADmGNs14dNr"
      },
      "source": [
        "def knots_to_m_sec(kts):\r\n",
        "  \"\"\" Converts knots (kt) to meters/second (m/s) \"\"\"\r\n",
        "  if np.isnan(kts):\r\n",
        "    return kts\r\n",
        "  else:\r\n",
        "    return kts * 0.514444"
      ],
      "execution_count": null,
      "outputs": []
    },
    {
      "cell_type": "code",
      "metadata": {
        "colab": {
          "base_uri": "https://localhost:8080/"
        },
        "id": "BZSD06Ni1ggp",
        "outputId": "94588652-f789-4c2b-d25e-d05cb09a201a"
      },
      "source": [
        "# load generic best tracks CSV file\r\n",
        "TC_dataset = pd.read_csv(\"best_track/ibtracs.since1980.list.v04r00.csv\", header=0)\r\n",
        "\r\n",
        "# load dataframe connecting .nc filename to TC Name and USA_ATCF_ID\r\n",
        "nc_ID = pd.read_csv(\"SAR_swath_nc/cyclobs_tc_dataframe.csv\", header=0)\r\n",
        "\r\n",
        "file_list = glob.glob('SAR_swath_nc/*/*.nc')\r\n",
        "files = []\r\n",
        "ids = []\r\n",
        "cyclob_Vmax_list = []\r\n",
        "ws_Vmax_list = []\r\n",
        "best_track_Vmax_list = []\r\n",
        "tmax_list = []\r\n",
        "ws_Vmax_masked_list = []\r\n",
        "cnt=0\r\n",
        "for single_file in file_list:\r\n",
        "\r\n",
        "  nc_filename = os.path.basename(single_file)\r\n",
        "  df = nc_ID[nc_ID.data == nc_filename]\r\n",
        "  cyclob_Vmax = df['vmax (m/s)'].values\r\n",
        "  id = df.sid.values\r\n",
        "\r\n",
        "  ##############################\r\n",
        "  # READ THE NC PRODUCT\r\n",
        "  full_info_image = netCDF4.Dataset(single_file, mode='r') \r\n",
        "  tmax_units = datetime.datetime.strptime(full_info_image.measurementDate, '%Y-%m-%dT%H:%M:%SZ')\r\n",
        "  tmax = tmax_units.strftime('%Y-%m-%d %H_%M_%S')\r\n",
        "\r\n",
        "  feature_wind = full_info_image.variables[\"wind_speed\"][:]\r\n",
        "  feature_wind = feature_wind[0]\r\n",
        "  ws_Vmax = np.max(feature_wind)\r\n",
        "  #print(ws_Vmax)\r\n",
        "\r\n",
        "  mask = full_info_image.variables[\"mask_flag\"][:]\r\n",
        "  feature_wind[mask[0] != 0] = 0\r\n",
        "  ws_Vmax_masked = np.max(feature_wind)\r\n",
        "  if ws_Vmax != ws_Vmax_masked:\r\n",
        "    cnt +=1\r\n",
        "  full_info_image.close()\r\n",
        "  ##############################\r\n",
        "\r\n",
        "  # get rows in the TC best track that are taken in the same day of the TC\r\n",
        "  day = tmax[:10]\r\n",
        "  img_info = TC_dataset.loc[TC_dataset.ISO_TIME.str.contains(day)]\r\n",
        "  img_info = img_info.loc[img_info.USA_ATCF_ID == id[0].upper()]\r\n",
        "\r\n",
        "  for index, row in img_info.iterrows():\r\n",
        "    img_info['ISO_TIME'][index] = datetime.datetime.strptime(img_info['ISO_TIME'][index], '%Y-%m-%d %H:%M:%S')\r\n",
        "  img_info['USA_WIND'] = img_info['USA_WIND'].astype(float)\r\n",
        "  aux = img_info[['ISO_TIME', 'USA_WIND']]\r\n",
        "\r\n",
        "  df2 = pd.DataFrame([[tmax_units, np.nan]], columns=['ISO_TIME', 'USA_WIND'])\r\n",
        "  #print(df2)\r\n",
        "  aux = aux.append(df2, ignore_index=True)\r\n",
        "  aux = aux.sort_values(by='ISO_TIME')\r\n",
        "  #print(aux)\r\n",
        "\r\n",
        "  interp = aux.interpolate()\r\n",
        "  #print(interp)\r\n",
        "  best_track_Vmax = interp.USA_WIND.loc[interp.ISO_TIME == tmax_units].values\r\n",
        "  #print(best_track_Vmax)\r\n",
        "\r\n",
        "  files.append(single_file)\r\n",
        "  ids.append(id[0])\r\n",
        "  cyclob_Vmax_list.append(cyclob_Vmax[0])\r\n",
        "  best_track_Vmax_list.append(knots_to_m_sec(best_track_Vmax[0]))\r\n",
        "  ws_Vmax_list.append(ws_Vmax)\r\n",
        "  ws_Vmax_masked_list.append(ws_Vmax_masked)\r\n",
        "  tmax_list.append(tmax)\r\n",
        "\r\n",
        "data = {\"nc\": files, \"sid\": ids, \"tmax\": tmax_list, \"Vmax_ws\": ws_Vmax_list, \"Vmax_ws_masked\": ws_Vmax_masked_list, \"Vmax_cyclob\": cyclob_Vmax_list, \"Vmax_best_track\": best_track_Vmax_list}\r\n",
        "final_df = pd.DataFrame(data)\r\n",
        "print(cnt)\r\n",
        "# save relevant information in a csv file that could be retrived with pandas in the future\r\n",
        "#final_df.to_csv(\"SAR_swath_Vmax/Vmax_info_masked.csv\", index = False)"
      ],
      "execution_count": null,
      "outputs": [
        {
          "output_type": "stream",
          "text": [
            "/usr/local/lib/python3.6/dist-packages/IPython/core/interactiveshell.py:2718: DtypeWarning: Columns (1,2,8,9,14,19,20,25,161,162) have mixed types.Specify dtype option on import or set low_memory=False.\n",
            "  interactivity=interactivity, compiler=compiler, result=result)\n"
          ],
          "name": "stderr"
        },
        {
          "output_type": "stream",
          "text": [
            "0\n"
          ],
          "name": "stdout"
        }
      ]
    },
    {
      "cell_type": "code",
      "metadata": {
        "colab": {
          "base_uri": "https://localhost:8080/",
          "height": 433
        },
        "id": "P4ENwJLpkPOx",
        "outputId": "757cb7fd-f99a-4a48-99d4-eaa3b21efaa1"
      },
      "source": [
        "dataset = pd.read_csv(\"SAR_swath_Vmax/Vmax_info_masked.csv\")\r\n",
        "\r\n",
        "file_list = glob.glob('SAR_swath_images_VV+VH+WS/*/*.png')\r\n",
        "\r\n",
        "for image in file_list:\r\n",
        "  #category = image.split('/')[-2]\r\n",
        "\r\n",
        "  date = os.path.basename(image)[:-4]\r\n",
        "  \r\n",
        "  df = dataset.loc[dataset.tmax == date]\r\n",
        "  idxs = []\r\n",
        "  for idx, row in df.iterrows():\r\n",
        "    idxs.append(idx)\r\n",
        "  #print(\"idxs:\", idxs)\r\n",
        "\r\n",
        "  if len(idxs) > 1:\r\n",
        "    idxs_to_drop = idxs[:-1]\r\n",
        "    #print(\"indxs_to_drop:\", idxs_to_drop)\r\n",
        "    dataset = dataset.drop(idxs_to_drop)\r\n",
        "  \r\n",
        "#print(dataset)\r\n",
        "\r\n",
        "times = np.array([item.split(\"/\")[-1][:-4] for item in file_list])\r\n",
        "df_tmax = dataset.tmax.values\r\n",
        "\r\n",
        "diff = list(list(set(times)-set(df_tmax)) + list(set(df_tmax)-set(times)))\r\n",
        "print(diff)\r\n",
        "\r\n",
        "idxs = []\r\n",
        "for item in diff:\r\n",
        "  df = dataset.loc[dataset.tmax == item]\r\n",
        "\r\n",
        "  for idx, row in df.iterrows():\r\n",
        "    idxs.append(idx)\r\n",
        "\r\n",
        "dataset = dataset.drop(idxs)\r\n",
        "dataset[\"category\"] = dataset[\"nc\"].str.split('/', expand=True)[1]\r\n",
        "dataset.reset_index()\r\n",
        "dataset.to_csv(\"SAR_swath_Vmax/Vmax_info_masked_filtered.csv\", index = False)\r\n",
        "dataset"
      ],
      "execution_count": null,
      "outputs": [
        {
          "output_type": "stream",
          "text": [
            "['2019-02-08 02_01_08', '2015-08-24 21_16_56', '2015-10-17 09_58_38', '2015-05-09 09_49_45', '2014-10-17 10_27_54', '2016-02-18 05_59_47', '2014-10-04 21_17_43', '2019-12-24 21_30_51']\n"
          ],
          "name": "stdout"
        },
        {
          "output_type": "execute_result",
          "data": {
            "text/html": [
              "<div>\n",
              "<style scoped>\n",
              "    .dataframe tbody tr th:only-of-type {\n",
              "        vertical-align: middle;\n",
              "    }\n",
              "\n",
              "    .dataframe tbody tr th {\n",
              "        vertical-align: top;\n",
              "    }\n",
              "\n",
              "    .dataframe thead th {\n",
              "        text-align: right;\n",
              "    }\n",
              "</style>\n",
              "<table border=\"1\" class=\"dataframe\">\n",
              "  <thead>\n",
              "    <tr style=\"text-align: right;\">\n",
              "      <th></th>\n",
              "      <th>nc</th>\n",
              "      <th>sid</th>\n",
              "      <th>tmax</th>\n",
              "      <th>Vmax_ws</th>\n",
              "      <th>Vmax_ws_masked</th>\n",
              "      <th>Vmax_cyclob</th>\n",
              "      <th>Vmax_best_track</th>\n",
              "      <th>category</th>\n",
              "    </tr>\n",
              "  </thead>\n",
              "  <tbody>\n",
              "    <tr>\n",
              "      <th>4</th>\n",
              "      <td>SAR_swath_nc/category1/s1a-iw-owi-cm-20180409t...</td>\n",
              "      <td>sh192018</td>\n",
              "      <td>2018-04-09 17_32_19</td>\n",
              "      <td>80.000000</td>\n",
              "      <td>80.000000</td>\n",
              "      <td>33</td>\n",
              "      <td>32.152750</td>\n",
              "      <td>category1</td>\n",
              "    </tr>\n",
              "    <tr>\n",
              "      <th>5</th>\n",
              "      <td>SAR_swath_nc/category1/s1a-ew-owi-cm-20190329t...</td>\n",
              "      <td>sh222019</td>\n",
              "      <td>2019-03-29 14_03_33</td>\n",
              "      <td>54.040001</td>\n",
              "      <td>54.040001</td>\n",
              "      <td>35</td>\n",
              "      <td>NaN</td>\n",
              "      <td>category1</td>\n",
              "    </tr>\n",
              "    <tr>\n",
              "      <th>8</th>\n",
              "      <td>SAR_swath_nc/category1/s1a-iw-owi-cm-20170504t...</td>\n",
              "      <td>sh182017</td>\n",
              "      <td>2017-05-04 07_14_33</td>\n",
              "      <td>80.000000</td>\n",
              "      <td>80.000000</td>\n",
              "      <td>42</td>\n",
              "      <td>41.155520</td>\n",
              "      <td>category1</td>\n",
              "    </tr>\n",
              "    <tr>\n",
              "      <th>9</th>\n",
              "      <td>SAR_swath_nc/category1/s1a-ew-owi-cm-20190324t...</td>\n",
              "      <td>sh212019</td>\n",
              "      <td>2019-03-24 10_38_56</td>\n",
              "      <td>66.533333</td>\n",
              "      <td>66.533333</td>\n",
              "      <td>40</td>\n",
              "      <td>NaN</td>\n",
              "      <td>category1</td>\n",
              "    </tr>\n",
              "    <tr>\n",
              "      <th>10</th>\n",
              "      <td>SAR_swath_nc/category1/s1b-ew-owi-cm-20180930t...</td>\n",
              "      <td>ep202018</td>\n",
              "      <td>2018-09-30 14_03_11</td>\n",
              "      <td>33.080002</td>\n",
              "      <td>33.080002</td>\n",
              "      <td>33</td>\n",
              "      <td>35.239414</td>\n",
              "      <td>category1</td>\n",
              "    </tr>\n",
              "    <tr>\n",
              "      <th>...</th>\n",
              "      <td>...</td>\n",
              "      <td>...</td>\n",
              "      <td>...</td>\n",
              "      <td>...</td>\n",
              "      <td>...</td>\n",
              "      <td>...</td>\n",
              "      <td>...</td>\n",
              "      <td>...</td>\n",
              "    </tr>\n",
              "    <tr>\n",
              "      <th>395</th>\n",
              "      <td>SAR_swath_nc/category5/s1a-ew-owi-cm-20180914t...</td>\n",
              "      <td>wp262018</td>\n",
              "      <td>2018-09-14 09_51_28</td>\n",
              "      <td>64.760002</td>\n",
              "      <td>64.760002</td>\n",
              "      <td>75</td>\n",
              "      <td>72.536604</td>\n",
              "      <td>category5</td>\n",
              "    </tr>\n",
              "    <tr>\n",
              "      <th>396</th>\n",
              "      <td>SAR_swath_nc/category5/s1b-ew-owi-cm-20180911t...</td>\n",
              "      <td>wp262018</td>\n",
              "      <td>2018-09-11 20_48_44</td>\n",
              "      <td>80.000000</td>\n",
              "      <td>80.000000</td>\n",
              "      <td>72</td>\n",
              "      <td>72.536604</td>\n",
              "      <td>category5</td>\n",
              "    </tr>\n",
              "    <tr>\n",
              "      <th>397</th>\n",
              "      <td>SAR_swath_nc/category5/s1a-ew-owi-cm-20180831t...</td>\n",
              "      <td>wp252018</td>\n",
              "      <td>2018-08-31 08_29_35</td>\n",
              "      <td>80.000000</td>\n",
              "      <td>80.000000</td>\n",
              "      <td>77</td>\n",
              "      <td>78.967154</td>\n",
              "      <td>category5</td>\n",
              "    </tr>\n",
              "    <tr>\n",
              "      <th>398</th>\n",
              "      <td>SAR_swath_nc/category5/s1a-iw-owi-cm-20170907t...</td>\n",
              "      <td>al112017</td>\n",
              "      <td>2017-09-07 10_30_39</td>\n",
              "      <td>79.519997</td>\n",
              "      <td>79.519997</td>\n",
              "      <td>78</td>\n",
              "      <td>74.594380</td>\n",
              "      <td>category5</td>\n",
              "    </tr>\n",
              "    <tr>\n",
              "      <th>399</th>\n",
              "      <td>SAR_swath_nc/category5/s1a-iw-owi-cm-20200406t...</td>\n",
              "      <td>sh252020</td>\n",
              "      <td>2020-04-06 07_13_52</td>\n",
              "      <td>80.000000</td>\n",
              "      <td>80.000000</td>\n",
              "      <td>71</td>\n",
              "      <td>NaN</td>\n",
              "      <td>category5</td>\n",
              "    </tr>\n",
              "  </tbody>\n",
              "</table>\n",
              "<p>227 rows × 8 columns</p>\n",
              "</div>"
            ],
            "text/plain": [
              "                                                    nc  ...   category\n",
              "4    SAR_swath_nc/category1/s1a-iw-owi-cm-20180409t...  ...  category1\n",
              "5    SAR_swath_nc/category1/s1a-ew-owi-cm-20190329t...  ...  category1\n",
              "8    SAR_swath_nc/category1/s1a-iw-owi-cm-20170504t...  ...  category1\n",
              "9    SAR_swath_nc/category1/s1a-ew-owi-cm-20190324t...  ...  category1\n",
              "10   SAR_swath_nc/category1/s1b-ew-owi-cm-20180930t...  ...  category1\n",
              "..                                                 ...  ...        ...\n",
              "395  SAR_swath_nc/category5/s1a-ew-owi-cm-20180914t...  ...  category5\n",
              "396  SAR_swath_nc/category5/s1b-ew-owi-cm-20180911t...  ...  category5\n",
              "397  SAR_swath_nc/category5/s1a-ew-owi-cm-20180831t...  ...  category5\n",
              "398  SAR_swath_nc/category5/s1a-iw-owi-cm-20170907t...  ...  category5\n",
              "399  SAR_swath_nc/category5/s1a-iw-owi-cm-20200406t...  ...  category5\n",
              "\n",
              "[227 rows x 8 columns]"
            ]
          },
          "metadata": {
            "tags": []
          },
          "execution_count": 15
        }
      ]
    },
    {
      "cell_type": "code",
      "metadata": {
        "id": "XWAnPRemp0Da",
        "colab": {
          "base_uri": "https://localhost:8080/",
          "height": 1000
        },
        "outputId": "2ec738bf-2c5e-47c0-ca7b-a773a5bc9199"
      },
      "source": [
        "# Importing the dataset\r\n",
        "dataset = pd.read_csv(\"SAR_swath_Vmax/Vmax_info_masked_filtered.csv\")\r\n",
        "\r\n",
        "feature = \"Vmax_ws_masked\"\r\n",
        "X = dataset.loc[:, feature].values\r\n",
        "#X = X/X.max()\r\n",
        "#print(X)\r\n",
        "y = dataset.loc[:, \"category\"].str.extract('(\\d+)').astype(int).values.flatten()\r\n",
        "\r\n",
        "# Splitting the dataset into the Training set and Test set\r\n",
        "X_train, X_test, y_train, y_test = train_test_split(X, y, test_size=0.3, random_state=1)\r\n",
        "\r\n",
        "#X_train, X_val, y_train, y_val = train_test_split(X_train, y_train, test_size=0.25, random_state=1) # 0.25 x 0.8 = 0.2\r\n",
        "#X_train, X_test, y_train, y_test = train_test_split(X, y, test_size = 0.08, random_state = 0)\r\n",
        "# one hot encode outputs\r\n",
        "y_train = to_categorical(y_train)\r\n",
        "y_test = to_categorical(y_test)\r\n",
        "\r\n",
        "# count number of classes\r\n",
        "count_classes = y_test.shape[1]\r\n",
        "\r\n",
        "X_train = X_train.reshape(-1, 1)\r\n",
        "X_test = X_test.reshape(-1, 1)\r\n",
        "\r\n",
        "# Feature Scaling\r\n",
        "sc = StandardScaler()\r\n",
        "X_train = sc.fit_transform(X_train)\r\n",
        "X_test = sc.transform(X_test)\r\n",
        "\r\n",
        "# Initialising the ANN\r\n",
        "model = Sequential()\r\n",
        "\r\n",
        "# Adding the input layer and the first hidden layer\r\n",
        "model.add(Dense(32, activation = 'relu', input_dim = 1))\r\n",
        "\r\n",
        "# Adding the second hidden layer\r\n",
        "model.add(Dense(units = 32, activation = 'relu'))\r\n",
        "\r\n",
        "# Adding the third hidden layer\r\n",
        "model.add(Dense(units = 32, activation = 'relu'))\r\n",
        "\r\n",
        "# Adding the output layer\r\n",
        "#model.add(Dense(units = 1))\r\n",
        "model.add(Dense(6, activation='softmax'))\r\n",
        "\r\n",
        "# Compiling the ANN\r\n",
        "model.compile(optimizer='adam', \r\n",
        "              loss='categorical_crossentropy', \r\n",
        "              metrics=['accuracy'])\r\n",
        "#model.compile(optimizer = 'adam', loss = 'mean_squared_error')\r\n",
        "\r\n",
        "# Fitting the ANN to the Training set\r\n",
        "history = model.fit(X_train, y_train,\r\n",
        "                    validation_split = 0.25,\r\n",
        "                    batch_size = 10,\r\n",
        "                    epochs = 50)\r\n",
        "\r\n",
        "y_pred = model.predict(X_test)\r\n",
        "#print(y_pred)\r\n",
        "predictions = [ np.argmax(t) for t in y_pred ]\r\n",
        "#print(predictions)\r\n",
        "y_test_non_category = [ np.argmax(t) for t in y_test ]\r\n",
        "\r\n",
        "conf_mat = confusion_matrix(y_test_non_category, predictions, labels = [0,1,2,3,4,5])\r\n",
        "disp = ConfusionMatrixDisplay(confusion_matrix = conf_mat, display_labels = [0,1,2,3,4,5])\r\n",
        "conf_mat_display = disp.plot()\r\n",
        "plt.savefig(\"SAR_swath_Vmax/regression_results/{}_confusion_matrix.jpg\".format(feature))\r\n",
        "\r\n",
        "# PLOT TRAIN/VALIDATION LOSSES\r\n",
        "fig, (ax1, ax2) = plt.subplots(nrows = 2, ncols = 1, figsize=(10, 10))\r\n",
        "ax1.plot(history.history['accuracy'], label='Training Accuracy')\r\n",
        "ax1.plot(history.history['val_accuracy'], label='Validation Accuracy')\r\n",
        "ax1.grid(True)\r\n",
        "ax1.legend(loc='lower right')\r\n",
        "ax1.set(ylabel = \"Accuracy\",\r\n",
        "        title = 'Training and Validation Accuracy')\r\n",
        "\r\n",
        "ax2.plot(history.history['loss'], label='Training Loss')\r\n",
        "ax2.plot(history.history['val_loss'], label='Validation Loss')\r\n",
        "ax2.grid(True)\r\n",
        "ax2.legend(loc='upper right')\r\n",
        "ax2.set(xlabel = 'Epoch', \r\n",
        "      ylabel = 'Categorical Cross Entropy',\r\n",
        "      title = 'Training and Validation Loss')\r\n",
        "plt.show()\r\n",
        "fig.savefig(\"SAR_swath_Vmax/regression_results/{}_learning_curves.jpg\".format(feature))\r\n",
        "\r\n",
        "# PLOT PREDICTIONS vs LABELS\r\n",
        "fig, ax = plt.subplots(figsize=(10, 10))\r\n",
        "ax.plot(y_test_non_category, '.', color = 'red', label = 'Real data')\r\n",
        "ax.plot(predictions, '.', color = 'blue', label = 'Predicted data')\r\n",
        "ax.set(title = 'Prediction')\r\n",
        "ax.legend()\r\n",
        "plt.show()"
      ],
      "execution_count": null,
      "outputs": [
        {
          "output_type": "stream",
          "text": [
            "Epoch 1/50\n",
            "12/12 [==============================] - 1s 17ms/step - loss: 1.8095 - accuracy: 0.0847 - val_loss: 1.7725 - val_accuracy: 0.2750\n",
            "Epoch 2/50\n",
            "12/12 [==============================] - 0s 6ms/step - loss: 1.7711 - accuracy: 0.2773 - val_loss: 1.7402 - val_accuracy: 0.3250\n",
            "Epoch 3/50\n",
            "12/12 [==============================] - 0s 5ms/step - loss: 1.7404 - accuracy: 0.3129 - val_loss: 1.7080 - val_accuracy: 0.3250\n",
            "Epoch 4/50\n",
            "12/12 [==============================] - 0s 5ms/step - loss: 1.7248 - accuracy: 0.2525 - val_loss: 1.6732 - val_accuracy: 0.3250\n",
            "Epoch 5/50\n",
            "12/12 [==============================] - 0s 5ms/step - loss: 1.6754 - accuracy: 0.2744 - val_loss: 1.6369 - val_accuracy: 0.3250\n",
            "Epoch 6/50\n",
            "12/12 [==============================] - 0s 5ms/step - loss: 1.6536 - accuracy: 0.2780 - val_loss: 1.6025 - val_accuracy: 0.3250\n",
            "Epoch 7/50\n",
            "12/12 [==============================] - 0s 4ms/step - loss: 1.6262 - accuracy: 0.2718 - val_loss: 1.5710 - val_accuracy: 0.3250\n",
            "Epoch 8/50\n",
            "12/12 [==============================] - 0s 5ms/step - loss: 1.6156 - accuracy: 0.2544 - val_loss: 1.5474 - val_accuracy: 0.3250\n",
            "Epoch 9/50\n",
            "12/12 [==============================] - 0s 5ms/step - loss: 1.6032 - accuracy: 0.2400 - val_loss: 1.5291 - val_accuracy: 0.3250\n",
            "Epoch 10/50\n",
            "12/12 [==============================] - 0s 5ms/step - loss: 1.5937 - accuracy: 0.2389 - val_loss: 1.5167 - val_accuracy: 0.3250\n",
            "Epoch 11/50\n",
            "12/12 [==============================] - 0s 5ms/step - loss: 1.5381 - accuracy: 0.3276 - val_loss: 1.5012 - val_accuracy: 0.3250\n",
            "Epoch 12/50\n",
            "12/12 [==============================] - 0s 5ms/step - loss: 1.5728 - accuracy: 0.3340 - val_loss: 1.4953 - val_accuracy: 0.3250\n",
            "Epoch 13/50\n",
            "12/12 [==============================] - 0s 5ms/step - loss: 1.5795 - accuracy: 0.2902 - val_loss: 1.4842 - val_accuracy: 0.3250\n",
            "Epoch 14/50\n",
            "12/12 [==============================] - 0s 5ms/step - loss: 1.4948 - accuracy: 0.3081 - val_loss: 1.4833 - val_accuracy: 0.2750\n",
            "Epoch 15/50\n",
            "12/12 [==============================] - 0s 5ms/step - loss: 1.5375 - accuracy: 0.3330 - val_loss: 1.4821 - val_accuracy: 0.2750\n",
            "Epoch 16/50\n",
            "12/12 [==============================] - 0s 5ms/step - loss: 1.5230 - accuracy: 0.3504 - val_loss: 1.4787 - val_accuracy: 0.2750\n",
            "Epoch 17/50\n",
            "12/12 [==============================] - 0s 5ms/step - loss: 1.5276 - accuracy: 0.3590 - val_loss: 1.4722 - val_accuracy: 0.2750\n",
            "Epoch 18/50\n",
            "12/12 [==============================] - 0s 5ms/step - loss: 1.5436 - accuracy: 0.2999 - val_loss: 1.4696 - val_accuracy: 0.2500\n",
            "Epoch 19/50\n",
            "12/12 [==============================] - 0s 5ms/step - loss: 1.5060 - accuracy: 0.3333 - val_loss: 1.4673 - val_accuracy: 0.2750\n",
            "Epoch 20/50\n",
            "12/12 [==============================] - 0s 5ms/step - loss: 1.5176 - accuracy: 0.3044 - val_loss: 1.4642 - val_accuracy: 0.2750\n",
            "Epoch 21/50\n",
            "12/12 [==============================] - 0s 5ms/step - loss: 1.5158 - accuracy: 0.4020 - val_loss: 1.4685 - val_accuracy: 0.2750\n",
            "Epoch 22/50\n",
            "12/12 [==============================] - 0s 5ms/step - loss: 1.5155 - accuracy: 0.4182 - val_loss: 1.4628 - val_accuracy: 0.2750\n",
            "Epoch 23/50\n",
            "12/12 [==============================] - 0s 5ms/step - loss: 1.4846 - accuracy: 0.3142 - val_loss: 1.4648 - val_accuracy: 0.2750\n",
            "Epoch 24/50\n",
            "12/12 [==============================] - 0s 5ms/step - loss: 1.4787 - accuracy: 0.3212 - val_loss: 1.4656 - val_accuracy: 0.2750\n",
            "Epoch 25/50\n",
            "12/12 [==============================] - 0s 5ms/step - loss: 1.5207 - accuracy: 0.3044 - val_loss: 1.4561 - val_accuracy: 0.3000\n",
            "Epoch 26/50\n",
            "12/12 [==============================] - 0s 5ms/step - loss: 1.4406 - accuracy: 0.4084 - val_loss: 1.4562 - val_accuracy: 0.3000\n",
            "Epoch 27/50\n",
            "12/12 [==============================] - 0s 5ms/step - loss: 1.5548 - accuracy: 0.2600 - val_loss: 1.4581 - val_accuracy: 0.2750\n",
            "Epoch 28/50\n",
            "12/12 [==============================] - 0s 5ms/step - loss: 1.5011 - accuracy: 0.3930 - val_loss: 1.4536 - val_accuracy: 0.3000\n",
            "Epoch 29/50\n",
            "12/12 [==============================] - 0s 5ms/step - loss: 1.4766 - accuracy: 0.3430 - val_loss: 1.4538 - val_accuracy: 0.2750\n",
            "Epoch 30/50\n",
            "12/12 [==============================] - 0s 5ms/step - loss: 1.4518 - accuracy: 0.3444 - val_loss: 1.4508 - val_accuracy: 0.3000\n",
            "Epoch 31/50\n",
            "12/12 [==============================] - 1s 105ms/step - loss: 1.4684 - accuracy: 0.3284 - val_loss: 1.4547 - val_accuracy: 0.3000\n",
            "Epoch 32/50\n",
            "12/12 [==============================] - 0s 5ms/step - loss: 1.4409 - accuracy: 0.3675 - val_loss: 1.4577 - val_accuracy: 0.3250\n",
            "Epoch 33/50\n",
            "12/12 [==============================] - 0s 5ms/step - loss: 1.5123 - accuracy: 0.2842 - val_loss: 1.4615 - val_accuracy: 0.2750\n",
            "Epoch 34/50\n",
            "12/12 [==============================] - 0s 5ms/step - loss: 1.4685 - accuracy: 0.3085 - val_loss: 1.4542 - val_accuracy: 0.3250\n",
            "Epoch 35/50\n",
            "12/12 [==============================] - 0s 6ms/step - loss: 1.4810 - accuracy: 0.3337 - val_loss: 1.4556 - val_accuracy: 0.3000\n",
            "Epoch 36/50\n",
            "12/12 [==============================] - 0s 5ms/step - loss: 1.4541 - accuracy: 0.3084 - val_loss: 1.4560 - val_accuracy: 0.3250\n",
            "Epoch 37/50\n",
            "12/12 [==============================] - 0s 5ms/step - loss: 1.5054 - accuracy: 0.3477 - val_loss: 1.4520 - val_accuracy: 0.3000\n",
            "Epoch 38/50\n",
            "12/12 [==============================] - 0s 5ms/step - loss: 1.4383 - accuracy: 0.3570 - val_loss: 1.4512 - val_accuracy: 0.3000\n",
            "Epoch 39/50\n",
            "12/12 [==============================] - 0s 5ms/step - loss: 1.5148 - accuracy: 0.3181 - val_loss: 1.4551 - val_accuracy: 0.2750\n",
            "Epoch 40/50\n",
            "12/12 [==============================] - 0s 5ms/step - loss: 1.5231 - accuracy: 0.2699 - val_loss: 1.4627 - val_accuracy: 0.2500\n",
            "Epoch 41/50\n",
            "12/12 [==============================] - 0s 5ms/step - loss: 1.4620 - accuracy: 0.3517 - val_loss: 1.4527 - val_accuracy: 0.3000\n",
            "Epoch 42/50\n",
            "12/12 [==============================] - 0s 4ms/step - loss: 1.4843 - accuracy: 0.3361 - val_loss: 1.4551 - val_accuracy: 0.3250\n",
            "Epoch 43/50\n",
            "12/12 [==============================] - 0s 5ms/step - loss: 1.4763 - accuracy: 0.3282 - val_loss: 1.4501 - val_accuracy: 0.3250\n",
            "Epoch 44/50\n",
            "12/12 [==============================] - 0s 5ms/step - loss: 1.4398 - accuracy: 0.3000 - val_loss: 1.4550 - val_accuracy: 0.3250\n",
            "Epoch 45/50\n",
            "12/12 [==============================] - 0s 4ms/step - loss: 1.4198 - accuracy: 0.3913 - val_loss: 1.4497 - val_accuracy: 0.3000\n",
            "Epoch 46/50\n",
            "12/12 [==============================] - 0s 5ms/step - loss: 1.4881 - accuracy: 0.3220 - val_loss: 1.4557 - val_accuracy: 0.3250\n",
            "Epoch 47/50\n",
            "12/12 [==============================] - 0s 5ms/step - loss: 1.4879 - accuracy: 0.3186 - val_loss: 1.4552 - val_accuracy: 0.3250\n",
            "Epoch 48/50\n",
            "12/12 [==============================] - 0s 5ms/step - loss: 1.4166 - accuracy: 0.3970 - val_loss: 1.4526 - val_accuracy: 0.3250\n",
            "Epoch 49/50\n",
            "12/12 [==============================] - 0s 5ms/step - loss: 1.4302 - accuracy: 0.3778 - val_loss: 1.4501 - val_accuracy: 0.3000\n",
            "Epoch 50/50\n",
            "12/12 [==============================] - 0s 4ms/step - loss: 1.4651 - accuracy: 0.3359 - val_loss: 1.4506 - val_accuracy: 0.3250\n"
          ],
          "name": "stdout"
        },
        {
          "output_type": "display_data",
          "data": {
            "image/png": "[encoded data removed]",
            "text/plain": [
              "<Figure size 432x288 with 2 Axes>"
            ]
          },
          "metadata": {
            "tags": [],
            "needs_background": "light"
          }
        },
        {
          "output_type": "display_data",
          "data": {
            "image/png": "[encoded data removed]",
            "text/plain": [
              "<Figure size 720x720 with 2 Axes>"
            ]
          },
          "metadata": {
            "tags": [],
            "needs_background": "light"
          }
        },
        {
          "output_type": "display_data",
          "data": {
            "image/png": "[encoded data removed]",
            "text/plain": [
              "<Figure size 720x720 with 1 Axes>"
            ]
          },
          "metadata": {
            "tags": [],
            "needs_background": "light"
          }
        }
      ]
    },
    {
      "cell_type": "code",
      "metadata": {
        "colab": {
          "base_uri": "https://localhost:8080/"
        },
        "id": "Bm5QP3kGKPXa",
        "outputId": "1a0df93f-e42e-4270-e99c-93348c689dc4"
      },
      "source": [
        "model = tf.keras.Sequential([\r\n",
        "  tf.keras.layers.Dense(10, activation=tf.nn.relu, input_shape=(1,)),  # input shape required\r\n",
        "  tf.keras.layers.Dense(10, activation=tf.nn.relu),\r\n",
        "  tf.keras.layers.Dense(3)\r\n",
        "])\r\n",
        "\r\n",
        "\r\n",
        "model = Sequential()\r\n",
        "model.add(Dense(10, activation='relu', input_dim=1))\r\n",
        "model.add(Dense(10, activation='relu'))\r\n",
        "model.add(Dense(5, activation='softmax'))\r\n",
        "\r\n",
        "# Compile the model\r\n",
        "model.compile(optimizer='adam', \r\n",
        "              loss='categorical_crossentropy', \r\n",
        "              metrics=['accuracy'])\r\n"
      ],
      "execution_count": null,
      "outputs": [
        {
          "output_type": "stream",
          "text": [
            "<class 'numpy.ndarray'>\n"
          ],
          "name": "stdout"
        },
        {
          "output_type": "stream",
          "text": [
            "/usr/local/lib/python3.6/dist-packages/ipykernel_launcher.py:8: DataConversionWarning: A column-vector y was passed when a 1d array was expected. Please change the shape of y to (n_samples, ), for example using ravel().\n",
            "  \n"
          ],
          "name": "stderr"
        }
      ]
    }
  ]
}