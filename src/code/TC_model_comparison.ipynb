{
  "nbformat": 4,
  "nbformat_minor": 0,
  "metadata": {
    "colab": {
      "name": "TC_model_comparison.ipynb",
      "provenance": [],
      "collapsed_sections": [
        "0Uk0cd0xa-Dw"
      ],
      "toc_visible": true,
      "include_colab_link": true
    },
    "kernelspec": {
      "display_name": "Python 3",
      "name": "python3"
    }
  },
  "cells": [
    {
      "cell_type": "markdown",
      "metadata": {
        "id": "view-in-github",
        "colab_type": "text"
      },
      "source": [
        "<a href=\"https://colab.research.google.com/github/raquelcarmo/tropical_cyclones/blob/main/src/code/TC_model_comparison.ipynb\" target=\"_parent\"><img src=\"https://colab.research.google.com/assets/colab-badge.svg\" alt=\"Open In Colab\"/></a>"
      ]
    },
    {
      "cell_type": "code",
      "metadata": {
        "id": "dj7JZ5lPCZvm",
        "colab": {
          "base_uri": "https://localhost:8080/"
        },
        "outputId": "0bec4d6d-99cd-4741-8ec2-3feedc30e3b1"
      },
      "source": [
        "# Load the Drive helper and mount\n",
        "from google.colab import drive\n",
        "\n",
        "# This will prompt for authorization.\n",
        "drive.mount('/content/drive')"
      ],
      "execution_count": null,
      "outputs": [
        {
          "output_type": "stream",
          "text": [
            "Mounted at /content/drive\n"
          ],
          "name": "stdout"
        }
      ]
    },
    {
      "cell_type": "code",
      "metadata": {
        "id": "3d95OmlLCDSj",
        "colab": {
          "base_uri": "https://localhost:8080/"
        },
        "outputId": "38354769-fece-4980-d343-880428be85bb"
      },
      "source": [
        "# getting in the directory \n",
        "%cd /content/drive/My Drive/ESRIN_PhiLab/Tropical_Cyclones/data\n",
        "%ls"
      ],
      "execution_count": null,
      "outputs": [
        {
          "output_type": "stream",
          "text": [
            "/content/drive/My Drive/ESRIN_PhiLab/Tropical_Cyclones/data\n",
            "\u001b[0m\u001b[01;34mbest_track\u001b[0m/                            \u001b[01;34mSAR_swath_images_VV+VH+VH\u001b[0m/\n",
            "categorisation.png                     \u001b[01;34mSAR_swath_images_VV+VH+WS\u001b[0m/\n",
            "identification.png                     \u001b[01;34mSAR_swath_images_WS+sWSO+cWSO\u001b[0m/\n",
            "\u001b[01;34mmodel_comparisons_between_datasets\u001b[0m/    \u001b[01;34mSAR_swath_images_WS+WS+WS\u001b[0m/\n",
            "model.png                              \u001b[01;34mSAR_swath_masks\u001b[0m/\n",
            "\u001b[01;34mparametric_model\u001b[0m/                      \u001b[01;34mSAR_swath_nc\u001b[0m/\n",
            "\u001b[01;36mSAR_IMAGE_DATASET_EYE_CLASSIFICATION\u001b[0m@  \u001b[01;34mSAR_swath_Vmax\u001b[0m/\n",
            "\u001b[01;36mSAR_swath_images\u001b[0m@\n"
          ],
          "name": "stdout"
        }
      ]
    },
    {
      "cell_type": "code",
      "metadata": {
        "id": "a8tbWAaHayf0"
      },
      "source": [
        "# general imports\n",
        "import random\n",
        "import glob\n",
        "import os\n",
        "import sys\n",
        "sys.stdout.flush()\n",
        "import pandas as pd\n",
        "import numpy as np\n",
        "import cv2\n",
        "import matplotlib\n",
        "import matplotlib.pyplot as plt\n",
        "import matplotlib.cm as cm\n",
        "import math\n",
        "import imageio\n",
        "import os.path\n",
        "from PIL import Image\n",
        "from mpl_toolkits.axes_grid1 import make_axes_locatable\n",
        "from scipy import ndimage\n",
        "from google.colab.patches import cv2_imshow\n",
        "import random\n",
        "from shapely.geometry import Point\n",
        "import re\n",
        "import pickle\n",
        "import scipy\n",
        "from sklearn.model_selection import StratifiedKFold\n",
        "from tensorflow.keras.callbacks import EarlyStopping, ModelCheckpoint, ReduceLROnPlateau, TensorBoard\n",
        "import datetime\n",
        "from IPython.display import Image\n",
        "\n",
        "import tensorflow as tf\n",
        "from tensorflow import keras\n",
        "from tensorflow.keras.applications import MobileNetV2, ResNet50\n",
        "from tensorflow.keras.layers import concatenate, Dense, GlobalAveragePooling2D"
      ],
      "execution_count": null,
      "outputs": []
    },
    {
      "cell_type": "markdown",
      "metadata": {
        "id": "0Uk0cd0xa-Dw"
      },
      "source": [
        "## Comparison between 2 models."
      ]
    },
    {
      "cell_type": "code",
      "metadata": {
        "id": "bksBnI0LgwnY"
      },
      "source": [
        "# COMPARISON BETWEEN TWO MODELS\n",
        "main_dir = \"SAR_swath_images_VV+VH+WS/\"\n",
        "sub_dir = main_dir + \"classification_results/categorization/\"\n",
        "# note that the result (in this case the recall) could be null if the classifier is broken (all recall = 1 because is always classified as positive class)\n",
        "MODEL_1_DIRECTORY = sub_dir + \"ResNet_Numeric-F_BatchSize-8_lr-0.0001_Epochs-20_Folds-5_Norm-T_Aug-T_Sq-T/csv\"\n",
        "MODEL_2_DIRECTORY = sub_dir + \"ResNet_Numeric-F_BatchSize-8_lr-0.0001_Epochs-20_Folds-5_Norm-T_Aug-T/csv\""
      ],
      "execution_count": null,
      "outputs": []
    },
    {
      "cell_type": "code",
      "metadata": {
        "id": "MAopwYgkSJdH",
        "colab": {
          "base_uri": "https://localhost:8080/",
          "height": 399
        },
        "outputId": "867455d9-e522-4aef-fc90-efb02b464292"
      },
      "source": [
        "# Critical t-value to see the difference in two distribution with 5 samples\n",
        "# 80% confidence\n",
        "criticalTvalue = 1.533\n",
        "\n",
        "# 90% confidence\n",
        "#criticalTvalue = 2.132\n",
        "\n",
        "# 95% confidence\n",
        "#criticalTvalue = 2.776\n",
        "\n",
        "\n",
        "def mean_confidence_interval(data, confidence=0.80):\n",
        "    a = 1.0 * np.array(data)\n",
        "    n = len(a)\n",
        "    m, se = np.mean(a), scipy.stats.sem(a)\n",
        "    h = se * scipy.stats.t.ppf((1 + confidence) / 2., n-1)\n",
        "    return m, m-h, m+h\n",
        "\n",
        "\n",
        "# Accuracy analysis\n",
        "model1_accuracy = pickle.load(open(MODEL_1_DIRECTORY + \"/test_accuracy.pkl\",  \"rb\" ))\n",
        "model2_accuracy = pickle.load(open(MODEL_2_DIRECTORY + \"/test_accuracy.pkl\",  \"rb\" ))\n",
        "\n",
        "model1_accuracy_mean, b_model1_acc, u_model1_acc = mean_confidence_interval(model1_accuracy)\n",
        "model2_accuracy_mean, b_model2_acc, u_model2_acc = mean_confidence_interval(model2_accuracy)\n",
        "\n",
        "t, p = scipy.stats.ttest_ind(model1_accuracy, model2_accuracy)\n",
        "print(\"t value accuracy: {}\".format(t))\n",
        "\n",
        "if t > criticalTvalue or t < -criticalTvalue :\n",
        "    print(\"Null hypothesis rejected -> there is a significant difference in the two accuracy distributions\")\n",
        "else:\n",
        "    print(\"Null hypothesis not rejected -> I assume that each difference in accuracy is due to the randomness\")\n",
        "\n",
        "\n",
        "# Precision analysis\n",
        "model1_precision = pickle.load(open(MODEL_1_DIRECTORY + \"/test_precision.pkl\",  \"rb\" ))\n",
        "model2_precision = pickle.load(open(MODEL_2_DIRECTORY + \"/test_precision.pkl\",  \"rb\" ))\n",
        "\n",
        "model1_precision_mean, b_model1_p, u_model1_p = mean_confidence_interval(model1_precision)\n",
        "model2_precision_mean, b_model2_p, u_model2_p = mean_confidence_interval(model2_precision)\n",
        "\n",
        "t, p = scipy.stats.ttest_ind(model1_precision, model2_precision)\n",
        "print(\"t value precision: {}\".format(t))\n",
        "\n",
        "if t > criticalTvalue or t < -criticalTvalue :\n",
        "    print(\"Null hypothesis rejected -> there is a significant difference in the two precision distributions\")\n",
        "else:\n",
        "    print(\"Null hypothesis not rejected -> I assume that each difference in precision is due to the randomness\")\n",
        "\n",
        "\n",
        "# Recall analysis\n",
        "model1_recall = pickle.load(open(MODEL_1_DIRECTORY + \"/test_recall.pkl\",  \"rb\" ))\n",
        "model2_recall = pickle.load(open(MODEL_2_DIRECTORY + \"/test_recall.pkl\",  \"rb\" ))\n",
        "\n",
        "model1_recall_mean, b_model1_r, u_model1_r = mean_confidence_interval(model1_recall)\n",
        "model2_recall_mean, b_model2_r, u_model2_r = mean_confidence_interval(model2_recall)\n",
        "\n",
        "t, p = scipy.stats.ttest_ind(model1_recall, model2_recall)\n",
        "print(\"t value recall: {}\".format(t))\n",
        "\n",
        "if t > criticalTvalue or t < -criticalTvalue :\n",
        "    print(\"Null hypothesis rejected -> there is a significant difference in the two recall distributions\")\n",
        "else:\n",
        "    print(\"Null hypothesis not rejected -> I assume that each difference in recall is due to the randomness\")\n",
        "\n",
        "\n",
        "# compute confidence intervals\n",
        "confidence_model1 = [u_model1_acc - b_model1_acc, u_model1_p - b_model1_p, u_model1_r - b_model1_r]\n",
        "confidence_model2 = [u_model2_acc - b_model2_acc, u_model2_p - b_model2_p, u_model2_r - b_model2_r]\n",
        "\n",
        "# data to plot\n",
        "n_groups = 3\n",
        "means_model1 = (model1_accuracy_mean, model1_precision_mean, model1_recall_mean)\n",
        "means_model2 = (model2_accuracy_mean, model2_precision_mean, model2_recall_mean)\n",
        "\n",
        "# create plot\n",
        "fig, ax = plt.subplots()\n",
        "index = np.arange(n_groups)\n",
        "bar_width = 0.35\n",
        "opacity = 0.8\n",
        "\n",
        "rects1 = plt.bar(index, means_model1, bar_width,\n",
        "                 yerr = confidence_model1,\n",
        "                 capsize = 5,\n",
        "                 alpha = opacity,\n",
        "                 color = 'g',\n",
        "                 label = MODEL_1_DIRECTORY.split(sep='/')[-2])\n",
        "\n",
        "rects2 = plt.bar(index + bar_width, means_model2, bar_width,\n",
        "                 yerr = confidence_model2,\n",
        "                 capsize = 5,\n",
        "                 alpha = opacity,\n",
        "                 color = 'r',\n",
        "                 label = MODEL_2_DIRECTORY.split(sep='/')[-2])\n",
        "\n",
        "plt.ylabel('Scores')\n",
        "plt.title('Comparison between two models')\n",
        "plt.xticks(index + bar_width/2, ('Accuracy', 'Precision', 'Recall'))\n",
        "plt.legend(loc = 'lower left')\n",
        "plt.grid(True)\n",
        "#ax.set_ylim(ymin=0.75)\n",
        "plt.tight_layout()\n",
        "plt.show()\n",
        "\n",
        "dir = sub_dir + \"model_comparisons/\"\n",
        "os.makedirs(dir, exist_ok=True)\n",
        "fig.savefig(dir + MODEL_1_DIRECTORY.split(sep='/')[-2] + \"_vs_\" + MODEL_2_DIRECTORY.split(sep='/')[-2] + \".jpg\", bbox_inches='tight')"
      ],
      "execution_count": null,
      "outputs": [
        {
          "output_type": "stream",
          "text": [
            "t value accuracy: 0.4341114580993057\n",
            "Null hypothesis not rejected -> I assume that each difference in accuracy is due to the randomness\n",
            "t value precision: 0.59273296347641\n",
            "Null hypothesis not rejected -> I assume that each difference in precision is due to the randomness\n",
            "t value recall: -0.23686321051698364\n",
            "Null hypothesis not rejected -> I assume that each difference in recall is due to the randomness\n"
          ],
          "name": "stdout"
        },
        {
          "output_type": "display_data",
          "data": {
            "image/png": "[encoded data removed]",
            "text/plain": [
              "<Figure size 432x288 with 1 Axes>"
            ]
          },
          "metadata": {
            "tags": [],
            "needs_background": "light"
          }
        }
      ]
    },
    {
      "cell_type": "code",
      "metadata": {
        "id": "C50SOvWvSL6x"
      },
      "source": [
        "#COMPARE CONFUSION MATRIX\n",
        "TP_model1 = pickle.load(open(MODEL_1_DIRECTORY + \"/test_tp.pkl\",  \"rb\" ))\n",
        "FP_model1 = pickle.load(open(MODEL_1_DIRECTORY + \"/test_fp.pkl\",  \"rb\" ))\n",
        "TN_model1 = pickle.load(open(MODEL_1_DIRECTORY + \"/test_tn.pkl\",  \"rb\" ))\n",
        "FN_model1 = pickle.load(open(MODEL_1_DIRECTORY + \"/test_fn.pkl\",  \"rb\" ))\n",
        "\n",
        "TP_model2 = pickle.load(open(MODEL_2_DIRECTORY + \"/test_tp.pkl\",  \"rb\" ))\n",
        "FP_model2 = pickle.load(open(MODEL_2_DIRECTORY + \"/test_fp.pkl\",  \"rb\" ))\n",
        "TN_model2 = pickle.load(open(MODEL_2_DIRECTORY + \"/test_tn.pkl\",  \"rb\" ))\n",
        "FN_model2 = pickle.load(open(MODEL_2_DIRECTORY + \"/test_fn.pkl\",  \"rb\" ))\n",
        "\n",
        "fold = 0\n",
        "for tp_1, fp_1, tn_1, fn_1, tp_2, fp_2, tn_2, fn_2 in zip(TP_model1, FP_model1, TN_model1, FN_model1, TP_model2, FP_model2, TN_model2, FN_model2):\n",
        "  fold += 1\n",
        "\n",
        "  print(\"Model 1 confusion matrix\")\n",
        "  fig, ax = plt.subplots()  \n",
        "  my_confusion_matrix = [[tp_1, fn_1], [fp_1, tn_1]]\n",
        "  plt.imshow(my_confusion_matrix, cmap=plt.cm.Blues)\n",
        "  plt.ylabel(\"Not present                 Present\")\n",
        "  plt.xticks([], [])\n",
        "  plt.yticks([], [])\n",
        "  plt.title(\"Present                  Not present\")\n",
        "  #plt.colorbar() \n",
        "  ax.text(0, 0, int(tp_1), ha=\"center\", va=\"center\", color=\"black\")\n",
        "  ax.text(1, 0, int(fn_1), ha=\"center\", va=\"center\", color=\"black\")\n",
        "  ax.text(0, 1, int(fp_1), ha=\"center\", va=\"center\", color=\"black\")\n",
        "  ax.text(1, 1, int(tn_1), ha=\"center\", va=\"center\", color=\"black\")\n",
        "  plt.show()\n",
        "\n",
        "  fig.savefig(MODEL_1_DIRECTORY + \"/confusion_matrix_{}.jpg\".format(fold))\n",
        "\n",
        "  print(\"Model 2 confusion matrix\")\n",
        "  fig, ax = plt.subplots()  \n",
        "  my_confusion_matrix = [[tp_2, fn_2], [fp_2, tn_2]]\n",
        "  plt.imshow(my_confusion_matrix, cmap=plt.cm.Blues)\n",
        "  plt.ylabel(\"Not present                 Present\")\n",
        "  plt.xticks([], [])\n",
        "  plt.yticks([], [])\n",
        "  plt.title(\"Present                  Not present\")\n",
        "  #plt.colorbar() \n",
        "  ax.text(0, 0, int(tp_2), ha=\"center\", va=\"center\", color=\"black\")\n",
        "  ax.text(1, 0, int(fn_2), ha=\"center\", va=\"center\", color=\"black\")\n",
        "  ax.text(0, 1, int(fp_2), ha=\"center\", va=\"center\", color=\"black\")\n",
        "  ax.text(1, 1, int(tn_2), ha=\"center\", va=\"center\", color=\"black\")\n",
        "  plt.show()\n",
        "\n",
        "  fig.savefig(MODEL_2_DIRECTORY + \"/confusion_matrix_{}.jpg\".format(fold))\n",
        "\n",
        "  \"\"\"\n",
        "  print(\"Fold {}:    Model 1                     Model 2\".format(fold))\n",
        "  fig, (ax1, ax2) = plt.subplots(1, 2)\n",
        "  my_confusion_matrix = [[tp_1, fn_1], [fp_1, tn_1]]\n",
        "  ax1.imshow(my_confusion_matrix, cmap=plt.cm.Blues)\n",
        "  ax1.set(ylabel = \"Not present                 Present\",\n",
        "          title = \"   Present          Not present\")\n",
        "  ax1.set_xticks([])\n",
        "  ax1.set_yticks([])\n",
        "  #plt.colorbar() \n",
        "  ax1.text(0, 0, int(tp_1), ha=\"center\", va=\"center\", color=\"black\")\n",
        "  ax1.text(1, 0, int(fn_1), ha=\"center\", va=\"center\", color=\"black\")\n",
        "  ax1.text(0, 1, int(fp_1), ha=\"center\", va=\"center\", color=\"black\")\n",
        "  ax1.text(1, 1, int(tn_1), ha=\"center\", va=\"center\", color=\"black\")\n",
        "\n",
        "  my_confusion_matrix = [[tp_2, fn_2], [fp_2, tn_2]]\n",
        "  ax2.imshow(my_confusion_matrix, cmap=plt.cm.Blues)\n",
        "  ax2.set(ylabel = \"Not present                 Present\",\n",
        "          title = \"   Present           Not present\")\n",
        "  ax2.set_xticks([])\n",
        "  ax2.set_yticks([])\n",
        "  #plt.colorbar() \n",
        "  ax2.text(0, 0, int(tp_2), ha=\"center\", va=\"center\", color=\"black\")\n",
        "  ax2.text(1, 0, int(fn_2), ha=\"center\", va=\"center\", color=\"black\")\n",
        "  ax2.text(0, 1, int(fp_2), ha=\"center\", va=\"center\", color=\"black\")\n",
        "  ax2.text(1, 1, int(tn_2), ha=\"center\", va=\"center\", color=\"black\")\n",
        "  plt.tight_layout()\n",
        "  plt.show()\n",
        "  \"\"\""
      ],
      "execution_count": null,
      "outputs": []
    },
    {
      "cell_type": "markdown",
      "metadata": {
        "id": "U90HRPq1bC9p"
      },
      "source": [
        "## Comparison between 4 models."
      ]
    },
    {
      "cell_type": "code",
      "metadata": {
        "id": "x9AOLrxYbFQM"
      },
      "source": [
        "# COMPARISON BETWEEN FOUR MODELS\r\n",
        "MODEL_1_DIRECTORY = \"SAR_swath_images_VV+VH+WS/classification_results/identification/Mobile_Numeric-F_BatchSize-8_lr-0.0001_Epochs-20_Folds-5_Norm-T/csv\"\r\n",
        "MODEL_2_DIRECTORY = \"SAR_swath_images_VV+VH+VH/classification_results/identification/Mobile_Numeric-F_BatchSize-8_lr-0.0001_Epochs-20_Folds-5_Norm-T/csv\"\r\n",
        "MODEL_3_DIRECTORY = \"SAR_swath_images_WS+WS+WS/classification_results/identification/Mobile_Numeric-F_BatchSize-8_lr-0.0001_Epochs-20_Folds-5_Norm-T/csv\"\r\n",
        "MODEL_4_DIRECTORY = \"SAR_swath_images_WS+sWSO+cWSO/classification_results/identification/Mobile_Numeric-F_BatchSize-8_lr-0.0001_Epochs-20_Folds-5_Norm-T/csv\""
      ],
      "execution_count": null,
      "outputs": []
    },
    {
      "cell_type": "code",
      "metadata": {
        "colab": {
          "base_uri": "https://localhost:8080/",
          "height": 687
        },
        "id": "e9nfHkfGOfiY",
        "outputId": "5e58edf1-a36b-4a82-af7e-ec3aa1fa6553"
      },
      "source": [
        "# Critical t-value to see the difference in two distribution with 5 samples\r\n",
        "# 80% confidence\r\n",
        "criticalTvalue = 1.533\r\n",
        "\r\n",
        "# 90% confidence\r\n",
        "#criticalTvalue = 2.132\r\n",
        "\r\n",
        "# 95% confidence\r\n",
        "#criticalTvalue = 2.776\r\n",
        "\r\n",
        "\r\n",
        "def mean_confidence_interval(data, confidence=0.80):\r\n",
        "    a = 1.0 * np.array(data)\r\n",
        "    n = len(a)\r\n",
        "    m, se = np.mean(a), scipy.stats.sem(a)\r\n",
        "    h = se * scipy.stats.t.ppf((1 + confidence) / 2., n-1)\r\n",
        "    return m, m-h, m+h\r\n",
        "\r\n",
        "\r\n",
        "# Accuracy analysis\r\n",
        "model1_accuracy = pickle.load(open(MODEL_1_DIRECTORY + \"/test_accuracy.pkl\",  \"rb\" ))\r\n",
        "model2_accuracy = pickle.load(open(MODEL_2_DIRECTORY + \"/test_accuracy.pkl\",  \"rb\" ))\r\n",
        "model3_accuracy = pickle.load(open(MODEL_3_DIRECTORY + \"/test_accuracy.pkl\",  \"rb\" ))\r\n",
        "model4_accuracy = pickle.load(open(MODEL_4_DIRECTORY + \"/test_accuracy.pkl\",  \"rb\" ))\r\n",
        "\r\n",
        "model1_accuracy_mean, b_model1_acc, u_model1_acc = mean_confidence_interval(model1_accuracy)\r\n",
        "model2_accuracy_mean, b_model2_acc, u_model2_acc = mean_confidence_interval(model2_accuracy)\r\n",
        "model3_accuracy_mean, b_model3_acc, u_model3_acc = mean_confidence_interval(model3_accuracy)\r\n",
        "model4_accuracy_mean, b_model4_acc, u_model4_acc = mean_confidence_interval(model4_accuracy)\r\n",
        "\r\n",
        "t, p = scipy.stats.ttest_ind(model1_accuracy, model2_accuracy)\r\n",
        "print(\"t value accuracy: {}\".format(t))\r\n",
        "if t > criticalTvalue or t < -criticalTvalue :\r\n",
        "    print(\"Null hypothesis rejected -> there is a significant difference in the two accuracy distributions\")\r\n",
        "else:\r\n",
        "    print(\"Null hypothesis not rejected -> I assume that each difference in accuracy is due to the randomness\")\r\n",
        "\r\n",
        "\r\n",
        "# Precision analysis\r\n",
        "model1_precision = pickle.load(open(MODEL_1_DIRECTORY + \"/test_precision.pkl\",  \"rb\" ))\r\n",
        "model2_precision = pickle.load(open(MODEL_2_DIRECTORY + \"/test_precision.pkl\",  \"rb\" ))\r\n",
        "model3_precision = pickle.load(open(MODEL_3_DIRECTORY + \"/test_precision.pkl\",  \"rb\" ))\r\n",
        "model4_precision = pickle.load(open(MODEL_4_DIRECTORY + \"/test_precision.pkl\",  \"rb\" ))\r\n",
        "\r\n",
        "model1_precision_mean, b_model1_p, u_model1_p = mean_confidence_interval(model1_precision)\r\n",
        "model2_precision_mean, b_model2_p, u_model2_p = mean_confidence_interval(model2_precision)\r\n",
        "model3_precision_mean, b_model3_p, u_model3_p = mean_confidence_interval(model3_precision)\r\n",
        "model4_precision_mean, b_model4_p, u_model4_p = mean_confidence_interval(model4_precision)\r\n",
        "\r\n",
        "t, p = scipy.stats.ttest_ind(model1_precision, model2_precision)\r\n",
        "print(\"t value precision: {}\".format(t))\r\n",
        "if t > criticalTvalue or t < -criticalTvalue :\r\n",
        "    print(\"Null hypothesis rejected -> there is a significant difference in the two precision distributions\")\r\n",
        "else:\r\n",
        "    print(\"Null hypothesis not rejected -> I assume that each difference in precision is due to the randomness\")\r\n",
        "\r\n",
        "\r\n",
        "# Recall analysis\r\n",
        "model1_recall = pickle.load(open(MODEL_1_DIRECTORY + \"/test_recall.pkl\",  \"rb\" ))\r\n",
        "model2_recall = pickle.load(open(MODEL_2_DIRECTORY + \"/test_recall.pkl\",  \"rb\" ))\r\n",
        "model3_recall = pickle.load(open(MODEL_3_DIRECTORY + \"/test_recall.pkl\",  \"rb\" ))\r\n",
        "model4_recall = pickle.load(open(MODEL_4_DIRECTORY + \"/test_recall.pkl\",  \"rb\" ))\r\n",
        "\r\n",
        "model1_recall_mean, b_model1_r, u_model1_r = mean_confidence_interval(model1_recall)\r\n",
        "model2_recall_mean, b_model2_r, u_model2_r = mean_confidence_interval(model2_recall)\r\n",
        "model3_recall_mean, b_model3_r, u_model3_r = mean_confidence_interval(model3_recall)\r\n",
        "model4_recall_mean, b_model4_r, u_model4_r = mean_confidence_interval(model4_recall)\r\n",
        "\r\n",
        "t, p = scipy.stats.ttest_ind(model1_recall, model2_recall)\r\n",
        "print(\"t value recall: {}\".format(t))\r\n",
        "if t > criticalTvalue or t < -criticalTvalue :\r\n",
        "    print(\"Null hypothesis rejected -> there is a significant difference in the two recall distributions\")\r\n",
        "else:\r\n",
        "    print(\"Null hypothesis not rejected -> I assume that each difference in recall is due to the randomness\")\r\n",
        "\r\n",
        "\r\n",
        "# compute confidence intervals\r\n",
        "confidence_model1 = [u_model1_acc - b_model1_acc, u_model1_p - b_model1_p, u_model1_r - b_model1_r]\r\n",
        "confidence_model2 = [u_model2_acc - b_model2_acc, u_model2_p - b_model2_p, u_model2_r - b_model2_r]\r\n",
        "confidence_model3 = [u_model3_acc - b_model3_acc, u_model3_p - b_model3_p, u_model3_r - b_model3_r]\r\n",
        "confidence_model4 = [u_model4_acc - b_model4_acc, u_model4_p - b_model4_p, u_model4_r - b_model4_r]\r\n",
        "\r\n",
        "# data to plot\r\n",
        "n_groups = 3\r\n",
        "means_model1 = (model1_accuracy_mean, model1_precision_mean, model1_recall_mean)\r\n",
        "means_model2 = (model2_accuracy_mean, model2_precision_mean, model2_recall_mean)\r\n",
        "means_model3 = (model3_accuracy_mean, model3_precision_mean, model3_recall_mean)\r\n",
        "means_model4 = (model4_accuracy_mean, model4_precision_mean, model4_recall_mean)\r\n",
        "\r\n",
        "# create plot\r\n",
        "fig, ax = plt.subplots(figsize=(11,8))\r\n",
        "index = np.arange(n_groups)\r\n",
        "bar_width = 0.15\r\n",
        "opacity = 0.8\r\n",
        "\r\n",
        "rects1 = plt.bar(index, means_model1, bar_width,\r\n",
        "                 yerr = confidence_model1,\r\n",
        "                 capsize = 5,\r\n",
        "                 alpha = opacity,\r\n",
        "                 color = 'g',\r\n",
        "                 #label = MODEL_1_DIRECTORY.split(sep='/')[0]\r\n",
        "                 label = \"Dataset VV+VH+WS\")\r\n",
        "\r\n",
        "rects2 = plt.bar(index + bar_width, means_model2, bar_width,\r\n",
        "                 yerr = confidence_model2,\r\n",
        "                 capsize = 5,\r\n",
        "                 alpha = opacity,\r\n",
        "                 color = 'r',\r\n",
        "                 #label = MODEL_2_DIRECTORY.split(sep='/')[0]\r\n",
        "                 label = \"Dataset VV+VH+VH\")\r\n",
        "\r\n",
        "rects3 = plt.bar(index + 2 * bar_width, means_model3, bar_width,\r\n",
        "                 yerr = confidence_model3,\r\n",
        "                 capsize = 5,\r\n",
        "                 alpha = opacity,\r\n",
        "                 color = 'b',\r\n",
        "                 #label = MODEL_3_DIRECTORY.split(sep='/')[0]\r\n",
        "                 label = \"Dataset WS+WS+WS\")\r\n",
        "\r\n",
        "rects4 = plt.bar(index + 3 * bar_width, means_model4, bar_width,\r\n",
        "                 yerr = confidence_model4,\r\n",
        "                 capsize = 5,\r\n",
        "                 alpha = opacity,\r\n",
        "                 color = 'y',\r\n",
        "                 #label = MODEL_4_DIRECTORY.split(sep='/')[0]\r\n",
        "                 label = \"Dataset WS+sWSO+cWSO\")\r\n",
        "\r\n",
        "font_size = 25\r\n",
        "font_size_ticks = 20\r\n",
        "plt.ylabel('Scores', fontsize = font_size)\r\n",
        "#plt.title(MODEL_1_DIRECTORY.split(sep='/')[-2])\r\n",
        "plt.title(\"MobileNetV2 across datasets\", fontsize = font_size)\r\n",
        "plt.xticks(index + 1.5*bar_width, ('Accuracy', 'Precision', 'Recall'), fontsize = font_size_ticks)\r\n",
        "plt.yticks(fontsize = font_size_ticks)\r\n",
        "plt.legend(loc = 'lower left', prop={'size': font_size})\r\n",
        "plt.grid(True)\r\n",
        "#ax.set_ylim(ymin=0.75)\r\n",
        "plt.tight_layout()\r\n",
        "plt.show()\r\n",
        "\r\n",
        "dir = \"model_comparisons_between_datasets/identification/\"\r\n",
        "os.makedirs(dir, exist_ok=True)\r\n",
        "#fig.savefig(dir + \"{}_across_datasets.jpg\".format(MODEL_1_DIRECTORY.split(sep='/')[-2]), bbox_inches='tight')\r\n",
        "fig.savefig(dir + \"MobileNetV2 across datasets_2.jpg\", bbox_inches='tight')"
      ],
      "execution_count": null,
      "outputs": [
        {
          "output_type": "stream",
          "text": [
            "t value accuracy: 0.9267467715133052\n",
            "Null hypothesis not rejected -> I assume that each difference in accuracy is due to the randomness\n",
            "t value precision: 0.9999999999999994\n",
            "Null hypothesis not rejected -> I assume that each difference in precision is due to the randomness\n",
            "t value recall: 0.6057917261668793\n",
            "Null hypothesis not rejected -> I assume that each difference in recall is due to the randomness\n"
          ],
          "name": "stdout"
        },
        {
          "output_type": "display_data",
          "data": {
            "image/png": "[encoded data removed]",
            "text/plain": [
              "<Figure size 792x576 with 1 Axes>"
            ]
          },
          "metadata": {
            "tags": [],
            "needs_background": "light"
          }
        }
      ]
    }
  ]
}